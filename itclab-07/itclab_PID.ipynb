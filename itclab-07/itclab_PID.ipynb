{
 "cells": [
  {
   "cell_type": "code",
   "execution_count": 4,
   "metadata": {},
   "outputs": [],
   "source": [
    "import control_arduino as cd\n",
    "run_control = cd.GUI()"
   ]
  },
  {
   "cell_type": "code",
   "execution_count": 5,
   "metadata": {},
   "outputs": [
    {
     "data": {
      "application/vnd.jupyter.widget-view+json": {
       "model_id": "5892862bc3b542f9abcbbd9bbda0dd89",
       "version_major": 2,
       "version_minor": 0
      },
      "text/plain": [
       "VBox(children=(HBox(children=(Button(button_style='success', description='Start', icon='play', layout=Layout(h…"
      ]
     },
     "metadata": {},
     "output_type": "display_data"
    },
    {
     "name": "stdout",
     "output_type": "stream",
     "text": [
      "Opening connection\n"
     ]
    },
    {
     "name": "stderr",
     "output_type": "stream",
     "text": [
      "Exception in thread Thread-3 (_work_man):\n",
      "Traceback (most recent call last):\n",
      "  File \"C:\\Python312\\Lib\\threading.py\", line 1075, in _bootstrap_inner\n",
      "    self.run()\n",
      "  File \"C:\\Users\\faris\\venv\\Lib\\site-packages\\ipykernel\\ipkernel.py\", line 766, in run_closure\n",
      "    _threading_Thread_run(self)\n",
      "  File \"C:\\Python312\\Lib\\threading.py\", line 1012, in run\n",
      "    self._target(*self._args, **self._kwargs)\n",
      "  File \"C:\\Users\\faris\\OneDrive\\Documents\\Semester5\\Mikrotik\\itclab-07\\control_arduino.py\", line 1006, in _work_man\n",
      "    a.T1 + 273.15,\n",
      "    ^^^^\n",
      "  File \"C:\\Users\\faris\\OneDrive\\Documents\\Semester5\\Mikrotik\\itclab-07\\itclab.py\", line 76, in T1\n",
      "    self._T1 = float(self.read('T1'))\n",
      "                     ^^^^^^^^^^^^^^^\n",
      "  File \"C:\\Users\\faris\\OneDrive\\Documents\\Semester5\\Mikrotik\\itclab-07\\itclab.py\", line 119, in read\n",
      "    return self.sp.readline().decode('UTF-8').replace(\"\\r\\n\", \"\")\n",
      "           ^^^^^^^^^^^^^^^^^^^^^^^^^^^^^^^^^^\n",
      "UnicodeDecodeError: 'utf-8' codec can't decode byte 0x82 in position 16: invalid start byte\n"
     ]
    },
    {
     "name": "stdout",
     "output_type": "stream",
     "text": [
      "iTCLab connected via Arduino on port COM3\n"
     ]
    }
   ],
   "source": [
    "run_control.app()"
   ]
  },
  {
   "cell_type": "code",
   "execution_count": 3,
   "metadata": {},
   "outputs": [
    {
     "data": {
      "application/vnd.jupyter.widget-view+json": {
       "model_id": "27b3fbb397a14f7b9cf064a31f2037ae",
       "version_major": 2,
       "version_minor": 0
      },
      "text/plain": [
       "Tab(children=(VBox(children=(HBox(children=(HTML(value='<p style=\"text-align: right;\"><b>&Delta;t (s):</b></p>…"
      ]
     },
     "metadata": {},
     "output_type": "display_data"
    }
   ],
   "source": [
    "run_control.config()"
   ]
  },
  {
   "cell_type": "code",
   "execution_count": null,
   "metadata": {},
   "outputs": [],
   "source": []
  }
 ],
 "metadata": {
  "kernelspec": {
   "display_name": "Python 3 (ipykernel)",
   "language": "python",
   "name": "python3"
  },
  "language_info": {
   "codemirror_mode": {
    "name": "ipython",
    "version": 3
   },
   "file_extension": ".py",
   "mimetype": "text/x-python",
   "name": "python",
   "nbconvert_exporter": "python",
   "pygments_lexer": "ipython3",
   "version": "3.12.6"
  }
 },
 "nbformat": 4,
 "nbformat_minor": 4
}
